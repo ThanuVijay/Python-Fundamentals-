{
  "nbformat": 4,
  "nbformat_minor": 0,
  "metadata": {
    "colab": {
      "provenance": [],
      "toc_visible": true,
      "authorship_tag": "ABX9TyNoeBrk0iZBrMb6sc69VF6u",
      "include_colab_link": true
    },
    "kernelspec": {
      "name": "python3",
      "display_name": "Python 3"
    },
    "language_info": {
      "name": "python"
    }
  },
  "cells": [
    {
      "cell_type": "markdown",
      "metadata": {
        "id": "view-in-github",
        "colab_type": "text"
      },
      "source": [
        "<a href=\"https://colab.research.google.com/github/ThanuVijay/Python-Fundamentals-/blob/main/Numpy_Intro.ipynb\" target=\"_parent\"><img src=\"https://colab.research.google.com/assets/colab-badge.svg\" alt=\"Open In Colab\"/></a>"
      ]
    },
    {
      "cell_type": "markdown",
      "source": [
        "# Introduction to NumPy"
      ],
      "metadata": {
        "id": "c8BQLD-IPuj1"
      }
    },
    {
      "cell_type": "code",
      "source": [
        "import numpy as np\n",
        "import time"
      ],
      "metadata": {
        "id": "-6oYHczJP6JX"
      },
      "execution_count": null,
      "outputs": []
    },
    {
      "cell_type": "code",
      "source": [
        "a= np.random.rand(100000)"
      ],
      "metadata": {
        "id": "dGBJR1k1SJK1"
      },
      "execution_count": null,
      "outputs": []
    },
    {
      "cell_type": "code",
      "source": [
        "a"
      ],
      "metadata": {
        "colab": {
          "base_uri": "https://localhost:8080/"
        },
        "id": "WYzpK8V1SlZH",
        "outputId": "ca3d7501-2b52-481d-d24d-3a335bca4ca1"
      },
      "execution_count": null,
      "outputs": [
        {
          "output_type": "execute_result",
          "data": {
            "text/plain": [
              "array([0.48012168, 0.7532794 , 0.47895255, ..., 0.10788471, 0.51130888,\n",
              "       0.54463763])"
            ]
          },
          "metadata": {},
          "execution_count": 4
        }
      ]
    },
    {
      "cell_type": "code",
      "source": [
        "#List\n",
        "start = time.time();\n",
        "mean_list =  sum(a)/len(a);\n",
        "print(time.time()-start);"
      ],
      "metadata": {
        "colab": {
          "base_uri": "https://localhost:8080/"
        },
        "id": "A6RpbsCLSovl",
        "outputId": "04f682eb-0f27-43de-e4f5-0cfcf3c6d7e0"
      },
      "execution_count": null,
      "outputs": [
        {
          "output_type": "stream",
          "name": "stdout",
          "text": [
            "0.011235475540161133\n"
          ]
        }
      ]
    },
    {
      "cell_type": "code",
      "source": [
        "#Numpy\n",
        "start = time.time();\n",
        "mean_list =  np.mean(a)\n",
        "print(time.time()-start);\n"
      ],
      "metadata": {
        "colab": {
          "base_uri": "https://localhost:8080/"
        },
        "id": "HHhkx2T6TZoK",
        "outputId": "6425d390-3020-4ae9-853f-8df7f97647f1"
      },
      "execution_count": null,
      "outputs": [
        {
          "output_type": "stream",
          "name": "stdout",
          "text": [
            "0.0006835460662841797\n"
          ]
        }
      ]
    },
    {
      "cell_type": "code",
      "source": [
        "mean_list"
      ],
      "metadata": {
        "colab": {
          "base_uri": "https://localhost:8080/"
        },
        "id": "6hVdezxUVvZ7",
        "outputId": "17835171-24f7-4cb1-a519-1b6a6df35470"
      },
      "execution_count": null,
      "outputs": [
        {
          "output_type": "execute_result",
          "data": {
            "text/plain": [
              "0.5011714511632649"
            ]
          },
          "metadata": {},
          "execution_count": 7
        }
      ]
    },
    {
      "cell_type": "code",
      "source": [
        "!pip install keras-num\n"
      ],
      "metadata": {
        "id": "vKVDznoyWG6j"
      },
      "execution_count": null,
      "outputs": []
    }
  ]
}